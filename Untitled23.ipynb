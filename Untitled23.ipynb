{
  "nbformat": 4,
  "nbformat_minor": 0,
  "metadata": {
    "colab": {
      "name": "Untitled23.ipynb",
      "provenance": [],
      "authorship_tag": "ABX9TyMum6REhaOx5swwtEKhaK+y",
      "include_colab_link": true
    },
    "kernelspec": {
      "name": "python3",
      "display_name": "Python 3"
    },
    "language_info": {
      "name": "python"
    }
  },
  "cells": [
    {
      "cell_type": "markdown",
      "metadata": {
        "id": "view-in-github",
        "colab_type": "text"
      },
      "source": [
        "<a href=\"https://colab.research.google.com/github/jennifer04c/TrabajosProgramacionAplicada/blob/main/Untitled23.ipynb\" target=\"_parent\"><img src=\"https://colab.research.google.com/assets/colab-badge.svg\" alt=\"Open In Colab\"/></a>"
      ]
    },
    {
      "cell_type": "code",
      "execution_count": null,
      "metadata": {
        "id": "bkIHBqJRS8oi"
      },
      "outputs": [],
      "source": [
        "#reto #17 [realizado con un poco de ayuda del solucionario]"
      ]
    },
    {
      "cell_type": "code",
      "source": [
        "import random\n",
        "n=random.randrange(1,100)\n",
        "print('Estoy pensando un numero del 1 al 100')\n",
        "nu=int(input('¿QUE NUMERO ESTOY PENSANDO? '))\n",
        "c=1\n",
        "while nu!=n:\n",
        "  c+=1\n",
        "  if nu>n:\n",
        "      nu=int(input('NO,El número es mas pequeño'))\n",
        "  elif nu<n:\n",
        "      nu=int(input('NO,El número es mas grande'))\n",
        "print('Felicidades has adivinado que el número secreto es:',n)\n",
        "print('Y lo has adivinado en',c,'intentos.')"
      ],
      "metadata": {
        "colab": {
          "base_uri": "https://localhost:8080/"
        },
        "id": "S7xhh8QFTW14",
        "outputId": "92f7d2ab-fe51-404e-8eac-8edb98d490fc"
      },
      "execution_count": 3,
      "outputs": [
        {
          "output_type": "stream",
          "name": "stdout",
          "text": [
            "Estoy pensando un numero del 1 al 100\n",
            "¿QUE NUMERO ESTOY PENSANDO? 80\n",
            "NO,El número es mas pequeño50\n",
            "NO,El número es mas grande60\n",
            "NO,El número es mas grande70\n",
            "NO,El número es mas grande75\n",
            "NO,El número es mas pequeño74\n",
            "NO,El número es mas pequeño73\n",
            "NO,El número es mas pequeño71\n",
            "NO,El número es mas grande72\n",
            "Felicidades has adivinado que el número secreto es: 72\n",
            "Y lo has adivinado en 9 intentos.\n"
          ]
        }
      ]
    },
    {
      "cell_type": "code",
      "source": [
        ""
      ],
      "metadata": {
        "id": "078BQclBUmvf"
      },
      "execution_count": null,
      "outputs": []
    }
  ]
}