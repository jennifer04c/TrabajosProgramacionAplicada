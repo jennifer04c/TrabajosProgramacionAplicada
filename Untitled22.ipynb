{
  "nbformat": 4,
  "nbformat_minor": 0,
  "metadata": {
    "colab": {
      "name": "Untitled22.ipynb",
      "provenance": [],
      "authorship_tag": "ABX9TyME5phueC1JX+lzdThjSvUE",
      "include_colab_link": true
    },
    "kernelspec": {
      "name": "python3",
      "display_name": "Python 3"
    },
    "language_info": {
      "name": "python"
    }
  },
  "cells": [
    {
      "cell_type": "markdown",
      "metadata": {
        "id": "view-in-github",
        "colab_type": "text"
      },
      "source": [
        "<a href=\"https://colab.research.google.com/github/jennifer04c/TrabajosProgramacionAplicada/blob/main/Untitled22.ipynb\" target=\"_parent\"><img src=\"https://colab.research.google.com/assets/colab-badge.svg\" alt=\"Open In Colab\"/></a>"
      ]
    },
    {
      "cell_type": "code",
      "execution_count": null,
      "metadata": {
        "id": "EdSwR974GpV5"
      },
      "outputs": [],
      "source": [
        "#reto #15 [realizado sin ayuda del solucionario]"
      ]
    },
    {
      "cell_type": "code",
      "source": [
        "x=0\n",
        "u=0\n",
        "numeros=[]\n",
        "while (x < 2):\n",
        "  x = int(input('¿entre cuantos numeros desea que sea la media?'))\n",
        "while (u < x):\n",
        "  z = int(input('por favor dijite un numero:'))\n",
        "  numeros.append(z)\n",
        "  u+=1\n",
        "def calcular(numeros,x):\n",
        "  w= sum(numeros)\n",
        "  v=w/x\n",
        "  return(v)\n",
        "print('Media = ', calcular(numeros,x))"
      ],
      "metadata": {
        "colab": {
          "base_uri": "https://localhost:8080/"
        },
        "id": "Q1eBrhgoGwsX",
        "outputId": "f1150d34-7111-4107-906a-195e45250a04"
      },
      "execution_count": 5,
      "outputs": [
        {
          "output_type": "stream",
          "name": "stdout",
          "text": [
            "¿entre cuantos numeros desea que sea la media?6\n",
            "por favor dijite un numero:4\n",
            "por favor dijite un numero:5\n",
            "por favor dijite un numero:7\n",
            "por favor dijite un numero:3\n",
            "por favor dijite un numero:7\n",
            "por favor dijite un numero:5\n",
            "Media =  5.166666666666667\n"
          ]
        }
      ]
    }
  ]
}