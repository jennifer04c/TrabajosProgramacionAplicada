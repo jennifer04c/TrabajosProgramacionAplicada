{
  "nbformat": 4,
  "nbformat_minor": 0,
  "metadata": {
    "colab": {
      "name": "Untitled26.ipynb",
      "provenance": [],
      "authorship_tag": "ABX9TyNI0eSuY2TsBrITgx3bLRUa",
      "include_colab_link": true
    },
    "kernelspec": {
      "name": "python3",
      "display_name": "Python 3"
    },
    "language_info": {
      "name": "python"
    }
  },
  "cells": [
    {
      "cell_type": "markdown",
      "metadata": {
        "id": "view-in-github",
        "colab_type": "text"
      },
      "source": [
        "<a href=\"https://colab.research.google.com/github/jennifer04c/TrabajosProgramacionAplicada/blob/main/Untitled26.ipynb\" target=\"_parent\"><img src=\"https://colab.research.google.com/assets/colab-badge.svg\" alt=\"Open In Colab\"/></a>"
      ]
    },
    {
      "cell_type": "code",
      "execution_count": null,
      "metadata": {
        "id": "rzMtBnyDe3F0"
      },
      "outputs": [],
      "source": [
        "# reto #27"
      ]
    },
    {
      "cell_type": "code",
      "source": [
        "from random import randint\n",
        "maxi=0\n",
        "mini=100\n",
        "for i in range(10):\n",
        "  x=randint(1, 100)\n",
        "  print(x)\n",
        "  maxi=max(maxi,x)\n",
        "  mini=min(mini,x)\n",
        "print('El mayor es:',maxi)\n",
        "print('El menor es:',mini)"
      ],
      "metadata": {
        "colab": {
          "base_uri": "https://localhost:8080/"
        },
        "id": "EXpjg2bpe5vp",
        "outputId": "a85d30b1-e5cf-4e6b-99c5-0f03a4a625ed"
      },
      "execution_count": 1,
      "outputs": [
        {
          "output_type": "stream",
          "name": "stdout",
          "text": [
            "3\n",
            "41\n",
            "12\n",
            "59\n",
            "74\n",
            "54\n",
            "8\n",
            "35\n",
            "79\n",
            "56\n",
            "El mayor es: 79\n",
            "El menor es: 3\n"
          ]
        }
      ]
    }
  ]
}