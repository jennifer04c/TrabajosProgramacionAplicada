{
  "nbformat": 4,
  "nbformat_minor": 0,
  "metadata": {
    "colab": {
      "name": "Untitled21.ipynb",
      "provenance": [],
      "authorship_tag": "ABX9TyOSwVZlfnqmTa2acQuh8h5Q",
      "include_colab_link": true
    },
    "kernelspec": {
      "name": "python3",
      "display_name": "Python 3"
    },
    "language_info": {
      "name": "python"
    }
  },
  "cells": [
    {
      "cell_type": "markdown",
      "metadata": {
        "id": "view-in-github",
        "colab_type": "text"
      },
      "source": [
        "<a href=\"https://colab.research.google.com/github/jennifer04c/TrabajosProgramacionAplicada/blob/main/Untitled21.ipynb\" target=\"_parent\"><img src=\"https://colab.research.google.com/assets/colab-badge.svg\" alt=\"Open In Colab\"/></a>"
      ]
    },
    {
      "cell_type": "code",
      "execution_count": null,
      "metadata": {
        "id": "ZnXGMq-jFNt9"
      },
      "outputs": [],
      "source": [
        "#reto #13 [realizado sin ver la solucion]"
      ]
    },
    {
      "cell_type": "code",
      "source": [
        "x = float(input(\"Ingrese el primer numero\")) \n",
        "y = float(input(\"Ingrese el segundo número\"))\n",
        "z= (x+y)/2\n",
        "print('Primer número:',x)\n",
        "print('Segundo número:',y)\n",
        "print('La media es:',z)"
      ],
      "metadata": {
        "id": "hyYgUBO-Fb37"
      },
      "execution_count": null,
      "outputs": []
    }
  ]
}