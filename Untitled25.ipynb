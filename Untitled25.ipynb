{
  "nbformat": 4,
  "nbformat_minor": 0,
  "metadata": {
    "colab": {
      "name": "Untitled25.ipynb",
      "provenance": [],
      "authorship_tag": "ABX9TyPXddVHZa9xeEH3vSy2CSmi",
      "include_colab_link": true
    },
    "kernelspec": {
      "name": "python3",
      "display_name": "Python 3"
    },
    "language_info": {
      "name": "python"
    }
  },
  "cells": [
    {
      "cell_type": "markdown",
      "metadata": {
        "id": "view-in-github",
        "colab_type": "text"
      },
      "source": [
        "<a href=\"https://colab.research.google.com/github/jennifer04c/TrabajosProgramacionAplicada/blob/main/Untitled25.ipynb\" target=\"_parent\"><img src=\"https://colab.research.google.com/assets/colab-badge.svg\" alt=\"Open In Colab\"/></a>"
      ]
    },
    {
      "cell_type": "code",
      "execution_count": null,
      "metadata": {
        "id": "Bq16A5TPVx9Q"
      },
      "outputs": [],
      "source": [
        "#reto #26 "
      ]
    },
    {
      "cell_type": "code",
      "source": [
        "from random import randint\n",
        "x = randint(1000000, 2000000)\n",
        "print(x)\n",
        "x=str(x)\n",
        "par=0\n",
        "for i in x:\n",
        "  if int(i)%2==0:\n",
        "    par+=1\n",
        "print('Hay un total de',par,'cifras pares')\n",
        "print('Hay un total de',7-par,'cifras impares')"
      ],
      "metadata": {
        "colab": {
          "base_uri": "https://localhost:8080/"
        },
        "id": "fQ04ucgFZnk0",
        "outputId": "1390b1a9-0d27-4a67-bd90-4dc086edecde"
      },
      "execution_count": 2,
      "outputs": [
        {
          "output_type": "stream",
          "name": "stdout",
          "text": [
            "1077083\n",
            "Hay un total de 3 cifras pares\n",
            "Hay un total de 4 cifras impares\n"
          ]
        }
      ]
    }
  ]
}