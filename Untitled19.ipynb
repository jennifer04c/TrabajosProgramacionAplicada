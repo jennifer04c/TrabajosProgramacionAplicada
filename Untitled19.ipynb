{
  "nbformat": 4,
  "nbformat_minor": 0,
  "metadata": {
    "colab": {
      "name": "Untitled19.ipynb",
      "provenance": [],
      "authorship_tag": "ABX9TyOwOzSNR9UskhQ2aOJU6uQs",
      "include_colab_link": true
    },
    "kernelspec": {
      "name": "python3",
      "display_name": "Python 3"
    },
    "language_info": {
      "name": "python"
    }
  },
  "cells": [
    {
      "cell_type": "markdown",
      "metadata": {
        "id": "view-in-github",
        "colab_type": "text"
      },
      "source": [
        "<a href=\"https://colab.research.google.com/github/jennifer04c/TrabajosProgramacionAplicada/blob/main/Untitled19.ipynb\" target=\"_parent\"><img src=\"https://colab.research.google.com/assets/colab-badge.svg\" alt=\"Open In Colab\"/></a>"
      ]
    },
    {
      "cell_type": "code",
      "execution_count": null,
      "metadata": {
        "id": "UzOYAjwhAvFX"
      },
      "outputs": [],
      "source": [
        "#reto #9 [realizado con un poco de ayuda con el solucionario]"
      ]
    },
    {
      "cell_type": "code",
      "source": [
        "import random\n",
        "\n",
        "inicial= 10\n",
        "final=50\n",
        "intervalo=2\n",
        "print('inicial=',inicial)\n",
        "print('final=',final)\n",
        "print('intervalo=',intervalo)\n",
        "i=inicial\n",
        "L=[] \n",
        "total=0 \n",
        "while i<final:\n",
        "  L.append(i) \n",
        "  i+=intervalo \n",
        "  total+=i\n",
        "print(L) \n",
        "print('La suma es:',total)"
      ],
      "metadata": {
        "colab": {
          "base_uri": "https://localhost:8080/"
        },
        "id": "bvEp07ScAzwu",
        "outputId": "8d6e5146-1845-49c1-d3a6-994ab8cbec58"
      },
      "execution_count": 2,
      "outputs": [
        {
          "output_type": "stream",
          "name": "stdout",
          "text": [
            "inicial= 10\n",
            "final= 50\n",
            "intervalo= 2\n",
            "[10, 12, 14, 16, 18, 20, 22, 24, 26, 28, 30, 32, 34, 36, 38, 40, 42, 44, 46, 48]\n",
            "La suma es: 620\n"
          ]
        }
      ]
    }
  ]
}