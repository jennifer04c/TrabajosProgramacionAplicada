{
  "nbformat": 4,
  "nbformat_minor": 0,
  "metadata": {
    "colab": {
      "name": "Untitled27.ipynb",
      "provenance": [],
      "authorship_tag": "ABX9TyOS5jP/m2v+f7arQ7DWbrED",
      "include_colab_link": true
    },
    "kernelspec": {
      "name": "python3",
      "display_name": "Python 3"
    },
    "language_info": {
      "name": "python"
    }
  },
  "cells": [
    {
      "cell_type": "markdown",
      "metadata": {
        "id": "view-in-github",
        "colab_type": "text"
      },
      "source": [
        "<a href=\"https://colab.research.google.com/github/jennifer04c/TrabajosProgramacionAplicada/blob/main/Untitled27.ipynb\" target=\"_parent\"><img src=\"https://colab.research.google.com/assets/colab-badge.svg\" alt=\"Open In Colab\"/></a>"
      ]
    },
    {
      "cell_type": "code",
      "execution_count": 12,
      "metadata": {
        "id": "X5UITnFLjgXs"
      },
      "outputs": [],
      "source": [
        "#reto#6[Programa realizado sin ver la solucion]"
      ]
    },
    {
      "cell_type": "code",
      "source": [
        "import random\n",
        "x = random.randrange(120)\n",
        "print('Numero elegido:', x)\n",
        "if x<10:\n",
        "  print('El numero escogido  es menor de 10')\n",
        "elif x<50:\n",
        "  print('El numero escogido esta entre 10-50')\n",
        "elif x<100:\n",
        "  print('El numero escogido esta entre 50-100')\n",
        "else:\n",
        "  print('El numero escogido es mayor que 100')"
      ],
      "metadata": {
        "colab": {
          "base_uri": "https://localhost:8080/"
        },
        "id": "J6c9SHdhku8V",
        "outputId": "c284e86d-9ef8-4f6b-bb9f-3f56b91b13c9"
      },
      "execution_count": 1,
      "outputs": [
        {
          "output_type": "stream",
          "name": "stdout",
          "text": [
            "Numero elegido: 53\n",
            "El numero escogido esta entre 50-100\n"
          ]
        }
      ]
    },
    {
      "cell_type": "code",
      "source": [
        "# reto #8 [Programa realizado sin ver la solucion]"
      ],
      "metadata": {
        "id": "sURtkWY6kxrX"
      },
      "execution_count": 13,
      "outputs": []
    },
    {
      "cell_type": "code",
      "source": [
        "for x in range(10, 21, 2):\n",
        "  print(x)"
      ],
      "metadata": {
        "colab": {
          "base_uri": "https://localhost:8080/"
        },
        "id": "OPBm2J0Gk4Ia",
        "outputId": "faa2b989-a7c0-485d-afbc-99e34186e32b"
      },
      "execution_count": 2,
      "outputs": [
        {
          "output_type": "stream",
          "name": "stdout",
          "text": [
            "10\n",
            "12\n",
            "14\n",
            "16\n",
            "18\n",
            "20\n"
          ]
        }
      ]
    },
    {
      "cell_type": "code",
      "source": [
        "#reto #9 [realizado con un poco de ayuda con el solucionario]"
      ],
      "metadata": {
        "id": "7EBBWsKrk6uA"
      },
      "execution_count": 14,
      "outputs": []
    },
    {
      "cell_type": "code",
      "source": [
        "import random\n",
        "\n",
        "inicial= 10\n",
        "final=50\n",
        "intervalo=2\n",
        "print('inicial=',inicial)\n",
        "print('final=',final)\n",
        "print('intervalo=',intervalo)\n",
        "i=inicial\n",
        "L=[] \n",
        "total=0 \n",
        "while i<final:\n",
        "  L.append(i) \n",
        "  i+=intervalo \n",
        "  total+=i\n",
        "print(L) \n",
        "print('La suma es:',total)"
      ],
      "metadata": {
        "colab": {
          "base_uri": "https://localhost:8080/"
        },
        "id": "PgdXG-jElBDq",
        "outputId": "db78df8a-43ca-461a-e1cd-0e0878d0b6cb"
      },
      "execution_count": 3,
      "outputs": [
        {
          "output_type": "stream",
          "name": "stdout",
          "text": [
            "inicial= 10\n",
            "final= 50\n",
            "intervalo= 2\n",
            "[10, 12, 14, 16, 18, 20, 22, 24, 26, 28, 30, 32, 34, 36, 38, 40, 42, 44, 46, 48]\n",
            "La suma es: 620\n"
          ]
        }
      ]
    },
    {
      "cell_type": "code",
      "source": [
        "#reto #10 [realizado sin ver la solucion]"
      ],
      "metadata": {
        "id": "H8n1haNTlD9Z"
      },
      "execution_count": 4,
      "outputs": []
    },
    {
      "cell_type": "code",
      "source": [
        "i=0\n",
        "s=0\n",
        "while i<64:\n",
        "  s+=2**i\n",
        "  print(i+1,2**i,s)\n",
        "  i+=1\n",
        "print('el total es de ',int(round(s/25000000000000,0)),'millones de toneladas lo que equivale a  %E granos de trigo.\" % (2**i,s)')"
      ],
      "metadata": {
        "colab": {
          "base_uri": "https://localhost:8080/"
        },
        "id": "ChfPeEqBlNEA",
        "outputId": "518e2b8f-c081-493c-f915-aff44d5fbb80"
      },
      "execution_count": 5,
      "outputs": [
        {
          "output_type": "stream",
          "name": "stdout",
          "text": [
            "1 1 1\n",
            "2 2 3\n",
            "3 4 7\n",
            "4 8 15\n",
            "5 16 31\n",
            "6 32 63\n",
            "7 64 127\n",
            "8 128 255\n",
            "9 256 511\n",
            "10 512 1023\n",
            "11 1024 2047\n",
            "12 2048 4095\n",
            "13 4096 8191\n",
            "14 8192 16383\n",
            "15 16384 32767\n",
            "16 32768 65535\n",
            "17 65536 131071\n",
            "18 131072 262143\n",
            "19 262144 524287\n",
            "20 524288 1048575\n",
            "21 1048576 2097151\n",
            "22 2097152 4194303\n",
            "23 4194304 8388607\n",
            "24 8388608 16777215\n",
            "25 16777216 33554431\n",
            "26 33554432 67108863\n",
            "27 67108864 134217727\n",
            "28 134217728 268435455\n",
            "29 268435456 536870911\n",
            "30 536870912 1073741823\n",
            "31 1073741824 2147483647\n",
            "32 2147483648 4294967295\n",
            "33 4294967296 8589934591\n",
            "34 8589934592 17179869183\n",
            "35 17179869184 34359738367\n",
            "36 34359738368 68719476735\n",
            "37 68719476736 137438953471\n",
            "38 137438953472 274877906943\n",
            "39 274877906944 549755813887\n",
            "40 549755813888 1099511627775\n",
            "41 1099511627776 2199023255551\n",
            "42 2199023255552 4398046511103\n",
            "43 4398046511104 8796093022207\n",
            "44 8796093022208 17592186044415\n",
            "45 17592186044416 35184372088831\n",
            "46 35184372088832 70368744177663\n",
            "47 70368744177664 140737488355327\n",
            "48 140737488355328 281474976710655\n",
            "49 281474976710656 562949953421311\n",
            "50 562949953421312 1125899906842623\n",
            "51 1125899906842624 2251799813685247\n",
            "52 2251799813685248 4503599627370495\n",
            "53 4503599627370496 9007199254740991\n",
            "54 9007199254740992 18014398509481983\n",
            "55 18014398509481984 36028797018963967\n",
            "56 36028797018963968 72057594037927935\n",
            "57 72057594037927936 144115188075855871\n",
            "58 144115188075855872 288230376151711743\n",
            "59 288230376151711744 576460752303423487\n",
            "60 576460752303423488 1152921504606846975\n",
            "61 1152921504606846976 2305843009213693951\n",
            "62 2305843009213693952 4611686018427387903\n",
            "63 4611686018427387904 9223372036854775807\n",
            "64 9223372036854775808 18446744073709551615\n",
            "el total es de  737870 millones de toneladas lo que equivale a  %E granos de trigo.\" % (2**i,s)\n"
          ]
        }
      ]
    },
    {
      "cell_type": "code",
      "source": [
        "#reto #13 [realizado sin ver la solucion]"
      ],
      "metadata": {
        "id": "SAisVGcmlPwL"
      },
      "execution_count": 15,
      "outputs": []
    },
    {
      "cell_type": "code",
      "source": [
        "x = float(input(\"Ingrese el primer numero\")) \n",
        "y = float(input(\"Ingrese el segundo número\"))\n",
        "z= (x+y)/2\n",
        "print('Primer número:',x)\n",
        "print('Segundo número:',y)\n",
        "print('La media es:',z)"
      ],
      "metadata": {
        "colab": {
          "base_uri": "https://localhost:8080/"
        },
        "id": "fTIFjKZZlaMS",
        "outputId": "69674f2d-a3ee-407d-b5fb-990f6a6e5033"
      },
      "execution_count": 6,
      "outputs": [
        {
          "output_type": "stream",
          "name": "stdout",
          "text": [
            "Ingrese el primer numero6\n",
            "Ingrese el segundo número8\n",
            "Primer número: 6.0\n",
            "Segundo número: 8.0\n",
            "La media es: 7.0\n"
          ]
        }
      ]
    },
    {
      "cell_type": "code",
      "source": [
        "#reto #15 [realizado sin ayuda del solucionario]"
      ],
      "metadata": {
        "id": "Gq9ZxgZbldhu"
      },
      "execution_count": 16,
      "outputs": []
    },
    {
      "cell_type": "code",
      "source": [
        "x=0\n",
        "u=0\n",
        "numeros=[]\n",
        "while (x < 2):\n",
        "  x = int(input('¿entre cuantos numeros desea que sea la media?'))\n",
        "while (u < x):\n",
        "  z = int(input('por favor dijite un numero:'))\n",
        "  numeros.append(z)\n",
        "  u+=1\n",
        "def calcular(numeros,x):\n",
        "  w= sum(numeros)\n",
        "  v=w/x\n",
        "  return(v)\n",
        "print('Media = ', calcular(numeros,x))"
      ],
      "metadata": {
        "colab": {
          "base_uri": "https://localhost:8080/"
        },
        "id": "Zhh0ddwsllws",
        "outputId": "d68782b3-5421-484c-8f26-8cbe1648d200"
      },
      "execution_count": 7,
      "outputs": [
        {
          "output_type": "stream",
          "name": "stdout",
          "text": [
            "¿entre cuantos numeros desea que sea la media?6\n",
            "por favor dijite un numero:7\n",
            "por favor dijite un numero:23\n",
            "por favor dijite un numero:45\n",
            "por favor dijite un numero:3\n",
            "por favor dijite un numero:54\n",
            "por favor dijite un numero:23\n",
            "Media =  25.833333333333332\n"
          ]
        }
      ]
    },
    {
      "cell_type": "code",
      "source": [
        "#reto #17 [realizado con un poco de ayuda del solucionario]"
      ],
      "metadata": {
        "id": "1KgA5f1JloZV"
      },
      "execution_count": 17,
      "outputs": []
    },
    {
      "cell_type": "code",
      "source": [
        "import random\n",
        "n=random.randrange(1,100)\n",
        "print('Estoy pensando un numero del 1 al 100')\n",
        "nu=int(input('¿QUE NUMERO ESTOY PENSANDO? '))\n",
        "c=1\n",
        "while nu!=n:\n",
        "  c+=1\n",
        "  if nu>n:\n",
        "      nu=int(input('NO,El número es mas pequeño'))\n",
        "  elif nu<n:\n",
        "      nu=int(input('NO,El número es mas grande'))\n",
        "print('Felicidades has adivinado que el número secreto es:',n)\n",
        "print('Y lo has adivinado en',c,'intentos.')"
      ],
      "metadata": {
        "colab": {
          "base_uri": "https://localhost:8080/"
        },
        "id": "CefqLfBDltU9",
        "outputId": "34860332-61f7-4453-c90c-b525076457a1"
      },
      "execution_count": 8,
      "outputs": [
        {
          "output_type": "stream",
          "name": "stdout",
          "text": [
            "Estoy pensando un numero del 1 al 100\n",
            "¿QUE NUMERO ESTOY PENSANDO? 79\n",
            "NO,El número es mas pequeño60\n",
            "NO,El número es mas pequeño40\n",
            "NO,El número es mas pequeño10\n",
            "NO,El número es mas grande20\n",
            "NO,El número es mas grande30\n",
            "NO,El número es mas grande40\n",
            "NO,El número es mas pequeño39\n",
            "NO,El número es mas pequeño38\n",
            "NO,El número es mas pequeño37\n",
            "NO,El número es mas pequeño35\n",
            "NO,El número es mas grande36\n",
            "Felicidades has adivinado que el número secreto es: 36\n",
            "Y lo has adivinado en 12 intentos.\n"
          ]
        }
      ]
    },
    {
      "cell_type": "code",
      "source": [
        "#reto  #20 [realizado sin ayuda del solucionario]"
      ],
      "metadata": {
        "id": "_PSdRJjHlws_"
      },
      "execution_count": 18,
      "outputs": []
    },
    {
      "cell_type": "code",
      "source": [
        "def bisiesto(x):\n",
        "  if x%4==0 and (not(x%100==0) or x%400==0 ):\n",
        "    texto='es bisiesto.'\n",
        "  else:\n",
        "    texto='es un año NO bisiesto.'\n",
        "  return texto\n",
        "x=int(input('Introduzca un año entre 1500 y 2500:'))\n",
        "print(x,bisiesto(x))"
      ],
      "metadata": {
        "colab": {
          "base_uri": "https://localhost:8080/"
        },
        "id": "oOgJMESHl9kN",
        "outputId": "d26d95ce-1b11-4f4f-ab52-97e450a88059"
      },
      "execution_count": 9,
      "outputs": [
        {
          "output_type": "stream",
          "name": "stdout",
          "text": [
            "Introduzca un año entre 1500 y 2500:2000\n",
            "2000 es bisiesto.\n"
          ]
        }
      ]
    },
    {
      "cell_type": "code",
      "source": [
        "#reto #26 [realizado sin ayuda del solucionario]"
      ],
      "metadata": {
        "id": "0P77x_9vl_0s"
      },
      "execution_count": 19,
      "outputs": []
    },
    {
      "cell_type": "code",
      "source": [
        "from random import randint\n",
        "x = randint(1000000, 2000000)\n",
        "print(x)\n",
        "x=str(x)\n",
        "par=0\n",
        "for i in x:\n",
        "  if int(i)%2==0:\n",
        "    par+=1\n",
        "print('Hay un total de',par,'cifras pares')\n",
        "print('Hay un total de',7-par,'cifras impares')"
      ],
      "metadata": {
        "colab": {
          "base_uri": "https://localhost:8080/"
        },
        "id": "YnvV6vtXmGLC",
        "outputId": "128460fd-e405-4dc7-e500-90c82a404179"
      },
      "execution_count": 10,
      "outputs": [
        {
          "output_type": "stream",
          "name": "stdout",
          "text": [
            "1790114\n",
            "Hay un total de 2 cifras pares\n",
            "Hay un total de 5 cifras impares\n"
          ]
        }
      ]
    },
    {
      "cell_type": "code",
      "source": [
        "# reto #27 [realizado sin ayuda del solucionario]"
      ],
      "metadata": {
        "id": "VQTB5UdUmJps"
      },
      "execution_count": 20,
      "outputs": []
    },
    {
      "cell_type": "code",
      "source": [
        "from random import randint\n",
        "maxi=0\n",
        "mini=100\n",
        "for i in range(10):\n",
        "  x=randint(1, 100)\n",
        "  print(x)\n",
        "  maxi=max(maxi,x)\n",
        "  mini=min(mini,x)\n",
        "print('El mayor es:',maxi)\n",
        "print('El menor es:',mini)"
      ],
      "metadata": {
        "colab": {
          "base_uri": "https://localhost:8080/"
        },
        "id": "Nw5MML67mSqd",
        "outputId": "4130379c-59b2-4fc4-e949-da9a09ace950"
      },
      "execution_count": 11,
      "outputs": [
        {
          "output_type": "stream",
          "name": "stdout",
          "text": [
            "66\n",
            "50\n",
            "23\n",
            "45\n",
            "17\n",
            "2\n",
            "26\n",
            "92\n",
            "4\n",
            "74\n",
            "El mayor es: 92\n",
            "El menor es: 2\n"
          ]
        }
      ]
    }
  ]
}