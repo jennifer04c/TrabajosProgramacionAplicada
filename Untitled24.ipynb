{
  "nbformat": 4,
  "nbformat_minor": 0,
  "metadata": {
    "colab": {
      "name": "Untitled24.ipynb",
      "provenance": [],
      "authorship_tag": "ABX9TyNnvtTQbN+mpDS07jT9nU5/",
      "include_colab_link": true
    },
    "kernelspec": {
      "name": "python3",
      "display_name": "Python 3"
    },
    "language_info": {
      "name": "python"
    }
  },
  "cells": [
    {
      "cell_type": "markdown",
      "metadata": {
        "id": "view-in-github",
        "colab_type": "text"
      },
      "source": [
        "<a href=\"https://colab.research.google.com/github/jennifer04c/TrabajosProgramacionAplicada/blob/main/Untitled24.ipynb\" target=\"_parent\"><img src=\"https://colab.research.google.com/assets/colab-badge.svg\" alt=\"Open In Colab\"/></a>"
      ]
    },
    {
      "cell_type": "code",
      "execution_count": null,
      "metadata": {
        "id": "eo1ylpSXUvtf"
      },
      "outputs": [],
      "source": [
        "#reto  #20 "
      ]
    },
    {
      "cell_type": "code",
      "source": [
        "def bisiesto(x):\n",
        "  if x%4==0 and (not(x%100==0) or x%400==0 ):\n",
        "    texto='es bisiesto.'\n",
        "  else:\n",
        "    texto='es un año NO bisiesto.'\n",
        "  return texto\n",
        "x=int(input('Introduzca un año entre 1500 y 2500:'))\n",
        "print(x,bisiesto(x))"
      ],
      "metadata": {
        "colab": {
          "base_uri": "https://localhost:8080/"
        },
        "id": "5FsJDICiVFdG",
        "outputId": "3f74d8ac-4bd8-4718-95d7-475d0d91e307"
      },
      "execution_count": 6,
      "outputs": [
        {
          "output_type": "stream",
          "name": "stdout",
          "text": [
            "Introduzca un año entre 1500 y 2500:1590\n",
            "1590 es un año NO bisiesto.\n"
          ]
        }
      ]
    }
  ]
}